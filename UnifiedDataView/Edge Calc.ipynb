{
 "cells": [
  {
   "cell_type": "code",
   "execution_count": 99,
   "metadata": {},
   "outputs": [],
   "source": [
    "import pandas as pd\n",
    "import re\n",
    "\n",
    "edges = pd.read_csv(\"service_matrix.csv\").rename(columns={\"Unnamed: 0\" : \"City\", \"Unnamed: 1\" : \"Label\"}).set_index([\"City\", \"Label\"])\n",
    "cities = list(edges.columns)\n",
    "\n",
    "cityBasics = pd.read_csv(\"city-basics_iowa.csv\").drop([\"Unnamed: 0\"], axis=1)\n",
    "\n",
    "cityLat = dict()\n",
    "cityLon = dict()\n",
    "\n",
    "for city in cityBasics[\"City\"].unique():\n",
    "    cityLat[city] = cityBasics[cityBasics[\"City\"] == city][\"Lat\"]\n",
    "    cityLon[city] = cityBasics[cityBasics[\"City\"] == city][\"Lon\"]\n",
    "\n",
    "fail = []\n",
    "    \n",
    "for city in cities:\n",
    "    if (city in cityLat.keys()):\n",
    "        pass\n",
    "    else:\n",
    "        state = re.sub(\".*?,\\s+\", \"\", city).strip()\n",
    "        name = re.sub(\",.*\", \"\", city).strip()\n",
    "        name = re.sub(\"\\s+\", \"_\", name)\n",
    "        url = \"http://citylatitudelongitude.com/\" + state + \"/\" + name + \".htm\"\n",
    "        try:\n",
    "            llDF = pd.read_html(url, header=0)[1]\n",
    "            lat = float(re.sub(\"[A-Za-z\\s]\", \"\", llDF[\"Latitude\"][0]))\n",
    "            lon = float(re.sub(\"[A-Za-z\\s]\", \"\", llDF[\"Longitude\"][0]))\n",
    "            cityLat[city] = lat\n",
    "            cityLon[city] = lon\n",
    "        except:\n",
    "            fail.append(city)"
   ]
  },
  {
   "cell_type": "code",
   "execution_count": 116,
   "metadata": {},
   "outputs": [],
   "source": [
    "columnNames = edges.columns\n",
    "newNames = dict()\n",
    "for name in columnNames:\n",
    "    newNames[name] = name.strip()\n",
    "   \n",
    "\n",
    "newedges = edges.rename(columns = newNames)\n",
    "\n",
    "newedges = newedges.rename(columns={\"Cherokee Iowa, IA\": \"Cherokee, IA\"})\n",
    "newedges[\"Decatur City, IA\"] = newedges[\"Decatur, IA\"]\n",
    "newedges = newedges.drop(columns=[\"Old, IA\", \"Decatur, IA\"], axis=1)\n",
    "newfail = [x.strip() for x in fail]\n",
    "newfail = newfail[2:][0:5] + newfail[2:][6:8]"
   ]
  },
  {
   "cell_type": "code",
   "execution_count": 161,
   "metadata": {},
   "outputs": [],
   "source": [
    "finaledges = newedges\n",
    "finaledges = finaledges.drop(columns=newfail, axis=1)\n",
    "finaledges.to_csv(\"edges.csv\")\n",
    "cityLat = dict(zip(cityLat.keys(), [float(x) for x in cityLat.values()]))\n",
    "cityLon = dict(zip(cityLon.keys(), [float(x) for x in cityLon.values()]))"
   ]
  },
  {
   "cell_type": "code",
   "execution_count": 178,
   "metadata": {},
   "outputs": [],
   "source": [
    "llDF = pd.concat([pd.DataFrame.from_dict(cityLat, orient='index'), pd.DataFrame.from_dict(cityLon, orient='index')], axis=1)\n",
    "llDF.columns = [\"Lat\", \"Lon\"]\n",
    "llDF.to_csv(\"nodes.csv\")"
   ]
  },
  {
   "cell_type": "code",
   "execution_count": 198,
   "metadata": {},
   "outputs": [],
   "source": [
    "import geopy.distance\n",
    "\n",
    "distances = finaledges\n",
    "\n",
    "def getDistance(row):\n",
    "    hLat = row['lat home']\n",
    "    hLon = row['lon home']\n",
    "    wLat = row['lat work']\n",
    "    wLon = row['lon work']\n",
    "    d = geopy.distance.vincenty((hLat, hLon), (wLat, wLon)).km\n",
    "    return d\n",
    "\n",
    "distances = distances.reset_index()\n",
    "    \n"
   ]
  }
 ],
 "metadata": {
  "kernelspec": {
   "display_name": "Python 3",
   "language": "python",
   "name": "python3"
  },
  "language_info": {
   "codemirror_mode": {
    "name": "ipython",
    "version": 3
   },
   "file_extension": ".py",
   "mimetype": "text/x-python",
   "name": "python",
   "nbconvert_exporter": "python",
   "pygments_lexer": "ipython3",
   "version": "3.6.6"
  }
 },
 "nbformat": 4,
 "nbformat_minor": 2
}
